{
 "cells": [
  {
   "cell_type": "markdown",
   "id": "23878ce8",
   "metadata": {},
   "source": [
    "# Build model without dataset"
   ]
  },
  {
   "cell_type": "markdown",
   "id": "c57181ac",
   "metadata": {},
   "source": [
    "## This model is single sentenec classifier"
   ]
  },
  {
   "cell_type": "markdown",
   "id": "dd78f46e",
   "metadata": {},
   "source": [
    "### Import libaries"
   ]
  },
  {
   "cell_type": "code",
   "execution_count": 1,
   "id": "6d248766",
   "metadata": {},
   "outputs": [],
   "source": [
    "import re\n",
    "import nltk\n",
    "import pandas as pd\n",
    "from sklearn.feature_extraction.text import CountVectorizer\n",
    "from sklearn.naive_bayes import MultinomialNB"
   ]
  },
  {
   "cell_type": "markdown",
   "id": "ede94ed3",
   "metadata": {},
   "source": [
    "### Create a dummy dataset"
   ]
  },
  {
   "cell_type": "code",
   "execution_count": 2,
   "id": "0b37fe94",
   "metadata": {},
   "outputs": [],
   "source": [
    "data = pd.DataFrame({\n",
    "    'text': [\n",
    "        \"This is not spam.\",\n",
    "        \"It's a legitimate message.\",\n",
    "        \"Check out this amazing offer! You won't believe it.\",\n",
    "        \"Hello, how are you? Hope you're doing well.\",\n",
    "        \"Win a free iPhone now! Claim your prize!\",\n",
    "        \"Congratulations, you've won $1,000,000! Click to claim your winnings.\",\n",
    "        \"This is not spam.\",\n",
    "        \"Check out this amazing offer!\",\n",
    "        \"Hello, how are you?\",\n",
    "        \"Win a free iPhone now!\",\n",
    "        \"Congratulations, you've won $1,000,000.\",\n",
    "        \"you've won 1,000,000rs.\",\n",
    "        \"Get a 50% discount on all products today!\",\n",
    "        \"Limited-time offer: Buy one, get one free!\",\n",
    "        \"Exclusive deal: Save $100 on your purchase.\",\n",
    "        \"Hello, it's me! Are you there?\",\n",
    "        \"Earn money from home with our easy work-from-home program!\",\n",
    "        \"You're the lucky winner of a luxury vacation!\",\n",
    "        \"Hurry! Limited stock available for our new product launch.\",\n",
    "        \"Greetings, hope you're having a great day!\",\n",
    "        \"Claim your prize now, don't miss out on this opportunity!\",\n",
    "        \"Congratulations, you've been selected for a special offer!\",\n",
    "        \"Guaranteed to lose weight fast with our new product!\",\n",
    "        \"Dear customer, your account needs attention.\",\n",
    "        \"Amazing deals on electronics! Shop now!\",\n",
    "        \"You're pre-approved for a credit card with a $10,000 limit!\",\n",
    "        \"Click here to unsubscribe from our mailing list.\",\n",
    "        \"Important: Your account security has been compromised.\",\n",
    "        \"Join our loyalty program and get exclusive discounts!\",\n",
    "    ],\n",
    "    'label': [1, 0, 0, 0, 1, 1, 1, 0, 0, 1, 1, 1, 1, 1, 1, 0, 1, 1, 0, 1, 1, 1, 1, 0, 1, 0, 1, 0, 1]  # 0 for not spam, 1 for spam\n",
    "})"
   ]
  },
  {
   "cell_type": "markdown",
   "id": "412b75f6",
   "metadata": {},
   "source": [
    "### Preprocess the data with NLTK\n"
   ]
  },
  {
   "cell_type": "code",
   "execution_count": 3,
   "id": "6d593a90",
   "metadata": {},
   "outputs": [
    {
     "name": "stderr",
     "output_type": "stream",
     "text": [
      "[nltk_data] Error loading punkt: <urlopen error [WinError 10060] A\n",
      "[nltk_data]     connection attempt failed because the connected party\n",
      "[nltk_data]     did not properly respond after a period of time, or\n",
      "[nltk_data]     established connection failed because connected host\n",
      "[nltk_data]     has failed to respond>\n"
     ]
    }
   ],
   "source": [
    "nltk.download('punkt')\n",
    "from nltk.tokenize import sent_tokenize"
   ]
  },
  {
   "cell_type": "markdown",
   "id": "041f0c5c",
   "metadata": {},
   "source": [
    "### Creat a vectorizer object CountVectorizer\n"
   ]
  },
  {
   "cell_type": "code",
   "execution_count": 4,
   "id": "0bb41247",
   "metadata": {},
   "outputs": [],
   "source": [
    "vectorizer = CountVectorizer()"
   ]
  },
  {
   "cell_type": "markdown",
   "id": "d93861e0",
   "metadata": {},
   "source": [
    "### Fit and transform the data for training\n"
   ]
  },
  {
   "cell_type": "code",
   "execution_count": 5,
   "id": "f49f429b",
   "metadata": {},
   "outputs": [],
   "source": [
    "X_train_vectorized = vectorizer.fit_transform(data['text'])\n",
    "y_train = data['label']"
   ]
  },
  {
   "cell_type": "markdown",
   "id": "c70a8195",
   "metadata": {},
   "source": [
    "### Train a Naive Bayes classifier\n"
   ]
  },
  {
   "cell_type": "code",
   "execution_count": 6,
   "id": "6358f340",
   "metadata": {},
   "outputs": [
    {
     "data": {
      "text/html": [
       "<style>#sk-container-id-1 {color: black;}#sk-container-id-1 pre{padding: 0;}#sk-container-id-1 div.sk-toggleable {background-color: white;}#sk-container-id-1 label.sk-toggleable__label {cursor: pointer;display: block;width: 100%;margin-bottom: 0;padding: 0.3em;box-sizing: border-box;text-align: center;}#sk-container-id-1 label.sk-toggleable__label-arrow:before {content: \"▸\";float: left;margin-right: 0.25em;color: #696969;}#sk-container-id-1 label.sk-toggleable__label-arrow:hover:before {color: black;}#sk-container-id-1 div.sk-estimator:hover label.sk-toggleable__label-arrow:before {color: black;}#sk-container-id-1 div.sk-toggleable__content {max-height: 0;max-width: 0;overflow: hidden;text-align: left;background-color: #f0f8ff;}#sk-container-id-1 div.sk-toggleable__content pre {margin: 0.2em;color: black;border-radius: 0.25em;background-color: #f0f8ff;}#sk-container-id-1 input.sk-toggleable__control:checked~div.sk-toggleable__content {max-height: 200px;max-width: 100%;overflow: auto;}#sk-container-id-1 input.sk-toggleable__control:checked~label.sk-toggleable__label-arrow:before {content: \"▾\";}#sk-container-id-1 div.sk-estimator input.sk-toggleable__control:checked~label.sk-toggleable__label {background-color: #d4ebff;}#sk-container-id-1 div.sk-label input.sk-toggleable__control:checked~label.sk-toggleable__label {background-color: #d4ebff;}#sk-container-id-1 input.sk-hidden--visually {border: 0;clip: rect(1px 1px 1px 1px);clip: rect(1px, 1px, 1px, 1px);height: 1px;margin: -1px;overflow: hidden;padding: 0;position: absolute;width: 1px;}#sk-container-id-1 div.sk-estimator {font-family: monospace;background-color: #f0f8ff;border: 1px dotted black;border-radius: 0.25em;box-sizing: border-box;margin-bottom: 0.5em;}#sk-container-id-1 div.sk-estimator:hover {background-color: #d4ebff;}#sk-container-id-1 div.sk-parallel-item::after {content: \"\";width: 100%;border-bottom: 1px solid gray;flex-grow: 1;}#sk-container-id-1 div.sk-label:hover label.sk-toggleable__label {background-color: #d4ebff;}#sk-container-id-1 div.sk-serial::before {content: \"\";position: absolute;border-left: 1px solid gray;box-sizing: border-box;top: 0;bottom: 0;left: 50%;z-index: 0;}#sk-container-id-1 div.sk-serial {display: flex;flex-direction: column;align-items: center;background-color: white;padding-right: 0.2em;padding-left: 0.2em;position: relative;}#sk-container-id-1 div.sk-item {position: relative;z-index: 1;}#sk-container-id-1 div.sk-parallel {display: flex;align-items: stretch;justify-content: center;background-color: white;position: relative;}#sk-container-id-1 div.sk-item::before, #sk-container-id-1 div.sk-parallel-item::before {content: \"\";position: absolute;border-left: 1px solid gray;box-sizing: border-box;top: 0;bottom: 0;left: 50%;z-index: -1;}#sk-container-id-1 div.sk-parallel-item {display: flex;flex-direction: column;z-index: 1;position: relative;background-color: white;}#sk-container-id-1 div.sk-parallel-item:first-child::after {align-self: flex-end;width: 50%;}#sk-container-id-1 div.sk-parallel-item:last-child::after {align-self: flex-start;width: 50%;}#sk-container-id-1 div.sk-parallel-item:only-child::after {width: 0;}#sk-container-id-1 div.sk-dashed-wrapped {border: 1px dashed gray;margin: 0 0.4em 0.5em 0.4em;box-sizing: border-box;padding-bottom: 0.4em;background-color: white;}#sk-container-id-1 div.sk-label label {font-family: monospace;font-weight: bold;display: inline-block;line-height: 1.2em;}#sk-container-id-1 div.sk-label-container {text-align: center;}#sk-container-id-1 div.sk-container {/* jupyter's `normalize.less` sets `[hidden] { display: none; }` but bootstrap.min.css set `[hidden] { display: none !important; }` so we also need the `!important` here to be able to override the default hidden behavior on the sphinx rendered scikit-learn.org. See: https://github.com/scikit-learn/scikit-learn/issues/21755 */display: inline-block !important;position: relative;}#sk-container-id-1 div.sk-text-repr-fallback {display: none;}</style><div id=\"sk-container-id-1\" class=\"sk-top-container\"><div class=\"sk-text-repr-fallback\"><pre>MultinomialNB()</pre><b>In a Jupyter environment, please rerun this cell to show the HTML representation or trust the notebook. <br />On GitHub, the HTML representation is unable to render, please try loading this page with nbviewer.org.</b></div><div class=\"sk-container\" hidden><div class=\"sk-item\"><div class=\"sk-estimator sk-toggleable\"><input class=\"sk-toggleable__control sk-hidden--visually\" id=\"sk-estimator-id-1\" type=\"checkbox\" checked><label for=\"sk-estimator-id-1\" class=\"sk-toggleable__label sk-toggleable__label-arrow\">MultinomialNB</label><div class=\"sk-toggleable__content\"><pre>MultinomialNB()</pre></div></div></div></div></div>"
      ],
      "text/plain": [
       "MultinomialNB()"
      ]
     },
     "execution_count": 6,
     "metadata": {},
     "output_type": "execute_result"
    }
   ],
   "source": [
    "clf = MultinomialNB()\n",
    "clf.fit(X_train_vectorized, y_train)"
   ]
  },
  {
   "cell_type": "markdown",
   "id": "8960a869",
   "metadata": {},
   "source": [
    "### Define spam words\n"
   ]
  },
  {
   "cell_type": "code",
   "execution_count": 7,
   "id": "d71a0069",
   "metadata": {},
   "outputs": [],
   "source": [
    "spam_words = [\n",
    "    'free',\n",
    "    'win',\n",
    "    'prize',\n",
    "    'million',\n",
    "    'lottery',\n",
    "    'guaranteed',\n",
    "    'cash',\n",
    "    'money',\n",
    "    'credit',\n",
    "    'loan',\n",
    "    'viagra',\n",
    "    'pharmacy',\n",
    "    'mortgage',\n",
    "    'discount',\n",
    "    'offer',\n",
    "    'debt',\n",
    "    'investment',\n",
    "    'earn',\n",
    "    'income',\n",
    "    'online',\n",
    "    'limited time',\n",
    "    'risk-free',\n",
    "    'urgent',\n",
    "    'click below',\n",
    "    'buy direct',\n",
    "    'no catch',\n",
    "    'no cost',\n",
    "    'no fees',\n",
    "    'save big money',\n",
    "    'order now',\n",
    "    'apply now',\n",
    "    'get it now',\n",
    "    'call now',\n",
    "    'meet singles',\n",
    "    'meet hot singles',\n",
    "    'singles near you',\n",
    "    'meet sexy singles',\n",
    "    'get out of debt',\n",
    "    'insurance',\n",
    "    'warranty',\n",
    "    'obligation',\n",
    "    'reverses aging',\n",
    "    'hidden',\n",
    "    'prizes',\n",
    "    'promise',\n",
    "    '100% satisfied',\n",
    "    'money-back',\n",
    "    'stop',\n",
    "    'lose',\n",
    "    'miracle',\n",
    "    'mass email',\n",
    "    'full refund',\n",
    "    'no hidden',\n",
    "    'investment',\n",
    "    'additional income',\n",
    "    'home-based',\n",
    "    'dig up dirt',\n",
    "    'double your',\n",
    "    'earn extra',\n",
    "    'extra cash',\n",
    "    'expect to earn',\n",
    "    'fast cash',\n",
    "    'free access',\n",
    "    'free investment',\n",
    "    'free membership',\n",
    "    'free offer',\n",
    "    'free preview',\n",
    "    'increase sales',\n",
    "    'increase traffic',\n",
    "    'internet marketing',\n",
    "    'marketing solution',\n",
    "    'multi-level marketing',\n",
    "    'online biz opportunity',\n",
    "    'remove',\n",
    "    'search engine',\n",
    "    'this won’t believe',\n",
    "    'winner',\n",
    "    'winning',\n",
    "    'work from home',\n",
    "    'you are a winner!',\n",
    "    'your income',\n",
    "    'your family'\n",
    "]"
   ]
  },
  {
   "cell_type": "markdown",
   "id": "ebe8b871",
   "metadata": {},
   "source": [
    "### Create function to classify a single sentence\n"
   ]
  },
  {
   "cell_type": "code",
   "execution_count": 21,
   "id": "10d5e275",
   "metadata": {},
   "outputs": [],
   "source": [
    "def classify_sentence(sentence):\n",
    "    # Preprocess the sentence\n",
    "    sentence_vectorized = vectorizer.transform([sentence])\n",
    "    \n",
    "    # Predict whether the sentence is spam or not\n",
    "    prediction = clf.predict(sentence_vectorized)\n",
    "    \n",
    "    # Count words in the sentence\n",
    "    words = nltk.word_tokenize(sentence)\n",
    "    word_count = len(words)\n",
    "    \n",
    "    # Identify spam words in the sentence\n",
    "    spam_words_in_sentence = [word.lower() for word in words if word.lower() in spam_words]\n",
    "    spam_word_count = len(spam_words_in_sentence)\n",
    "    \n",
    "    # Define a prediction result based on the model's prediction\n",
    "    if prediction[0] == 1:\n",
    "        prediction_result = \"spam\"\n",
    "    else:\n",
    "        prediction_result = \"not spam\"\n",
    "    \n",
    "    # Create a result dictionary\n",
    "    result = {\n",
    "        'sentence': sentence,\n",
    "        'word_count': word_count,\n",
    "        'spam_word_count': spam_word_count,\n",
    "        'prediction_result': prediction_result,\n",
    "    }\n",
    "    \n",
    "    if prediction_result == 'spam':\n",
    "        result['spam_words'] = spam_words_in_sentence\n",
    "    \n",
    "    return result"
   ]
  },
  {
   "cell_type": "markdown",
   "id": "389b9bb2",
   "metadata": {},
   "source": [
    "### Let's time to predict\n"
   ]
  },
  {
   "cell_type": "code",
   "execution_count": 22,
   "id": "17a565e0",
   "metadata": {},
   "outputs": [],
   "source": [
    "input_sentence = \"My name is Artour Babaevsky. I grow up in smal farm to have make potatos. Father say Artour, potato harvest is bad. Need you to have play professional Doto in Amerikanski for make money for head-scarf for babushka.I bring honor to komrade and babushka. Sorry for is not have English. Please no cyka pasta coperino pasterino liquidino throwerino.\""
   ]
  },
  {
   "cell_type": "markdown",
   "id": "5ad2baf5",
   "metadata": {},
   "source": [
    "### Classify the sentence\n"
   ]
  },
  {
   "cell_type": "code",
   "execution_count": 23,
   "id": "327cfcab",
   "metadata": {},
   "outputs": [],
   "source": [
    "result = classify_sentence(input_sentence)"
   ]
  },
  {
   "cell_type": "markdown",
   "id": "29ba58df",
   "metadata": {},
   "source": [
    "### Print information about the classified sentence\n"
   ]
  },
  {
   "cell_type": "code",
   "execution_count": 24,
   "id": "a77a84d2",
   "metadata": {},
   "outputs": [],
   "source": [
    "# Define ANSI escape codes for text formatting\n",
    "RESET = \"\\x1b[0m\"\n",
    "BOLD = \"\\x1b[1m\"\n",
    "ITALIC = \"\\x1b[3m\"\n",
    "RED = \"\\x1b[31m\"\n",
    "GREEN = \"\\x1b[32m\""
   ]
  },
  {
   "cell_type": "code",
   "execution_count": 25,
   "id": "dc94a66e",
   "metadata": {},
   "outputs": [],
   "source": [
    "# Define emoji constants\n",
    "SAD_EMOJI = \"😢\"\n",
    "HAPPY_EMOJI = \"😃\""
   ]
  },
  {
   "cell_type": "code",
   "execution_count": 26,
   "id": "12758ead",
   "metadata": {},
   "outputs": [
    {
     "name": "stdout",
     "output_type": "stream",
     "text": [
      "\u001b[1mSentence:\u001b[0m My name is Artour Babaevsky. I grow up in smal farm to have make potatos. Father say Artour, potato harvest is bad. Need you to have play professional Doto in Amerikanski for make money for head-scarf for babushka.I bring honor to komrade and babushka. Sorry for is not have English. Please no cyka pasta coperino pasterino liquidino throwerino.\n",
      "\u001b[1mWord Count:\u001b[0m 65\n",
      "\u001b[1mSpam Word Count:\u001b[0m 1\n",
      "\u001b[1mPrediction Result:\u001b[0m \u001b[31m\u001b[3mspam\u001b[0m 😢\n",
      "\u001b[1mSpam Words:\u001b[0m \u001b[31mmoney\u001b[0m\n"
     ]
    }
   ],
   "source": [
    "# Print results with text formatting and emojis\n",
    "if result is not None:\n",
    "    print(BOLD + \"Sentence:\" + RESET, result.get('sentence'))\n",
    "    print(BOLD + \"Word Count:\" + RESET, result.get('word_count'))\n",
    "    print(BOLD + \"Spam Word Count:\" + RESET, result.get('spam_word_count'))\n",
    "\n",
    "    if result['prediction_result'] == 'spam':\n",
    "        print(BOLD + \"Prediction Result:\" + RESET, RED + ITALIC + result['prediction_result'] + RESET, SAD_EMOJI)\n",
    "        if 'spam_words' in result:\n",
    "            print(BOLD + \"Spam Words:\" + RESET, ', '.join([RED + word + RESET for word in result['spam_words']]))\n",
    "    else:\n",
    "        print(BOLD + \"Prediction Result:\" + RESET, GREEN + ITALIC + result['prediction_result'] + RESET, HAPPY_EMOJI)\n",
    "else:\n",
    "    print(\"No result available.\")  # Handle the case where result is None"
   ]
  },
  {
   "cell_type": "markdown",
   "id": "e028bacd",
   "metadata": {},
   "source": [
    "### Now save the model"
   ]
  },
  {
   "cell_type": "code",
   "execution_count": 14,
   "id": "eed4c243",
   "metadata": {},
   "outputs": [],
   "source": [
    "import joblib"
   ]
  },
  {
   "cell_type": "code",
   "execution_count": 15,
   "id": "550ca8ea",
   "metadata": {},
   "outputs": [
    {
     "data": {
      "text/plain": [
       "['sentence_naive_bayes_model.pkl']"
      ]
     },
     "execution_count": 15,
     "metadata": {},
     "output_type": "execute_result"
    }
   ],
   "source": [
    "# Save the classifier and vectorizer to files\n",
    "joblib.dump(clf, 'sentence_naive_bayes_model.pkl')"
   ]
  },
  {
   "cell_type": "code",
   "execution_count": 16,
   "id": "1fd5f021",
   "metadata": {},
   "outputs": [
    {
     "data": {
      "text/plain": [
       "['sentence_count_vectorizer.pkl']"
      ]
     },
     "execution_count": 16,
     "metadata": {},
     "output_type": "execute_result"
    }
   ],
   "source": [
    "joblib.dump(vectorizer, 'sentence_count_vectorizer.pkl')"
   ]
  },
  {
   "cell_type": "code",
   "execution_count": 17,
   "id": "9dbc7e73",
   "metadata": {},
   "outputs": [],
   "source": [
    "# You can also save the spam_words list for reference, if needed\n",
    "with open('sentence_spam_words.txt', 'w') as file:\n",
    "    for word in spam_words:\n",
    "        file.write(word + '\\n')"
   ]
  },
  {
   "cell_type": "code",
   "execution_count": 18,
   "id": "5bcff31a",
   "metadata": {},
   "outputs": [],
   "source": [
    "# Load the saved classifier and vectorizer\n",
    "loaded_clf = joblib.load('sentence_naive_bayes_model.pkl')"
   ]
  },
  {
   "cell_type": "code",
   "execution_count": 19,
   "id": "4163e8d8",
   "metadata": {},
   "outputs": [],
   "source": [
    "loaded_vectorizer = joblib.load('sentence_count_vectorizer.pkl')"
   ]
  },
  {
   "cell_type": "code",
   "execution_count": 20,
   "id": "97565459",
   "metadata": {},
   "outputs": [],
   "source": [
    "# Load the spam_words list if needed\n",
    "with open('sentence_spam_words.txt', 'r') as file:\n",
    "    loaded_spam_words = [line.strip() for line in file]"
   ]
  }
 ],
 "metadata": {
  "kernelspec": {
   "display_name": "Python 3 (ipykernel)",
   "language": "python",
   "name": "python3"
  },
  "language_info": {
   "codemirror_mode": {
    "name": "ipython",
    "version": 3
   },
   "file_extension": ".py",
   "mimetype": "text/x-python",
   "name": "python",
   "nbconvert_exporter": "python",
   "pygments_lexer": "ipython3",
   "version": "3.11.4"
  }
 },
 "nbformat": 4,
 "nbformat_minor": 5
}
